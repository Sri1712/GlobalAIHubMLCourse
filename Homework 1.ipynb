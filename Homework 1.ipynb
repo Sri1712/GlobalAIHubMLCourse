{
 "cells": [
  {
   "cell_type": "markdown",
   "metadata": {},
   "source": [
    "# Homework 1\n"
   ]
  },
  {
   "cell_type": "markdown",
   "metadata": {},
   "source": [
    "### 1. How would you define Machine Learning? "
   ]
  },
  {
   "cell_type": "markdown",
   "metadata": {},
   "source": [
    " * Machine Learning enables a machine to automatically learn from data,improve performance from experiences, and predict things without being explicitly programmed.\n",
    " * Currently, it is being used for various tasks such as image recognition, speech recognition, email filtering, recommender system, and many more."
   ]
  },
  {
   "cell_type": "markdown",
   "metadata": {},
   "source": [
    "### 2. What are the differences between Supervised and Unsupervised Learning? Specify example 3 algorithms for each of these."
   ]
  },
  {
   "cell_type": "markdown",
   "metadata": {},
   "source": [
    "* Supervised learning algorithms are trained using labeled data whereas Unsupervised learning algorithms are trained using unlabeled data.\n",
    "* The goal of supervised learning is to train the model so that it can predict the output when it is given new data but the goal of unsupervised learning is to find the hidden patterns and useful insights from the unknown dataset.\n",
    "* Supervised learning algorithms are highly accurate and trustworthy method whereas Unsupervised learning algorithms are less accurate and trustworthy method.\n",
    "* Linear Regression, Support Vector Machines, Decision trees are some Supervised learning algorithms and Clustering,K-means, Gaussian mixture model are some unsupervised learning algoirthms."
   ]
  },
  {
   "cell_type": "markdown",
   "metadata": {},
   "source": [
    "### 3.What are the test and validation set, and why would you want to use them? "
   ]
  },
  {
   "cell_type": "markdown",
   "metadata": {},
   "source": [
    "* Test Dataset: The sample of data used to provide an unbiased evaluation of a final model fit on the training dataset.\n",
    "* Validation Dataset: The sample of data used to provide an unbiased evaluation of a model fit on the training dataset while tuning model hyperparameters. \n",
    "* The validation set is used to evaluate a given model, but this is for frequent evaluation.\n",
    "* The Test dataset provides the gold standard used to evaluate the model. It is only used once a model is completely trained(using the train and validation sets)."
   ]
  },
  {
   "cell_type": "markdown",
   "metadata": {},
   "source": [
    "### 4.What are the main preprocessing steps? Explain them in detail. Why we need to prepare our data? "
   ]
  },
  {
   "cell_type": "markdown",
   "metadata": {},
   "source": [
    "Data pre-processing is a data mining technique that involves transforming raw data into an understandable format. Real-world data is often incomplete, inconsistent, and/or lacking in certain behaviors or trends, and is likely to contain many errors. Data preprocessing is a proven method of resolving such issues.\n",
    "Steps in Data Preprocessing in Machine Learning:\n",
    "#### a. Acquire the dataset\n",
    "To build and develop Machine Learning models, you must first acquire the relevant dataset. This dataset will be comprised of data gathered from multiple and disparate sources which are then combined in a proper format to form a dataset. \n",
    "\n",
    "#### b. Import all the crucial libraries\n",
    "The three core Python libraries used for this data pre-processing in Machine Learning are NumPy, Pandas and Matplotlib.\n",
    "\n",
    "#### c. Import the dataset\n",
    "In this step, you need to import the datasets that you have gathered for the ML project at hand.\n",
    "\n",
    "#### d. Identifying and handling the missing values\n",
    "In data preprocessing, it is pivotal to identify and correctly handle the missing values, failing to do this, you might draw inaccurate and faulty conclusions and inferences from the data. There are two ways to handle missing data: 1. Deleting a particular row 2. Calculating the mean \n",
    "\n",
    "#### e. Encoding the categorical data\n",
    "Categorical data refers to the information that has specific categories within the dataset. Machine Learning models are primarily based on mathematical equations. We need to encode these data to binary format.\n",
    "\n",
    "#### f. Splitting the dataset\n",
    "Every dataset for Machine Learning model must be split into two separate sets – training set and test set. Training set denotes the subset of a dataset that is used for training the machine learning model. A test set, on the other hand, is the subset of the dataset that is used for testing the machine learning model.\n",
    "\n",
    "#### g. Feature scaling\n",
    "Feature scaling marks the end of the data preprocessing in Machine Learning. It is a method to standardize the independent variables of a dataset within a specific range. You can perform feature scaling in Machine Learning in two ways: Standardization and Normalization\n"
   ]
  },
  {
   "cell_type": "markdown",
   "metadata": {},
   "source": [
    "### 5.How you can explore continuous and discrete variables?"
   ]
  },
  {
   "cell_type": "markdown",
   "metadata": {},
   "source": [
    "* In case of univariate analysis of continuous variables, we need to understand the central tendency and spread of the variable. These are measured using various statistical metrics visualization methods.\n",
    "* For categorical variables, we’ll use frequency table to understand distribution of each category. We can also read as percentage of values under each category. It can be be measured using two metrics, Count and Count% against each category. Bar chart can be used as visualization.\n",
    "* While doing bi-variate analysis between two continuous variables, we should look at scatter plot. Scatter plot shows the relationship between two variable but does not indicates the strength of relationship amongst them. To find the strength of the relationship, we use Correlation. \n",
    "* In bivariate analysis to find the relationship between two categorical variables, we can use following methods: a)Two-way table b)Stacked Column Chart c)Chi-Square test.\n",
    "* While exploring relation between categorical and continuous variables, we can draw box plots for each level of categorical variables. If levels are small in number, it will not show the statistical significance. To look at the statistical significance we can perform Z-test, T-test or ANOVA."
   ]
  },
  {
   "attachments": {
    "image.png": {
     "image/png": "[encoded data removed]"
    }
   },
   "cell_type": "markdown",
   "metadata": {},
   "source": [
    "### 6.Analyse the plot given below. (What is the plot and variable type, check the distribution and make comment about how you can preproccess it.)\n",
    "\n",
    "![image.png](attachment:image.png)"
   ]
  },
  {
   "cell_type": "markdown",
   "metadata": {},
   "source": [
    "* The above plot is a distribution plot.\n",
    "* This plots is based on a single variable(petal width) and shows the frequency of uniques values of the given variable.\n",
    "* A distplot plots a univariate distribution of observations. The distplot() function combines the matplotlib hist function with the seaborn kdeplot() and rugplot() functions.\n"
   ]
  }
 ],
 "metadata": {
  "kernelspec": {
   "display_name": "Python 3",
   "language": "python",
   "name": "python3"
  },
  "language_info": {
   "codemirror_mode": {
    "name": "ipython",
    "version": 3
   },
   "file_extension": ".py",
   "mimetype": "text/x-python",
   "name": "python",
   "nbconvert_exporter": "python",
   "pygments_lexer": "ipython3",
   "version": "3.7.4"
  }
 },
 "nbformat": 4,
 "nbformat_minor": 2
}
